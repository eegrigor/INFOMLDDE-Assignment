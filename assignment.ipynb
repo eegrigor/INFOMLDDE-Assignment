{
 "cells": [
  {
   "cell_type": "code",
   "execution_count": 37,
   "metadata": {},
   "outputs": [],
   "source": [
    "import numpy as np \n",
    "import pandas as pd \n",
    "from river.datasets import synth\n",
    "from river.datasets import AirlinePassengers, Elec2"
   ]
  },
  {
   "cell_type": "markdown",
   "metadata": {},
   "source": [
    "# Task 1 - Hyper-parameter tuning "
   ]
  },
  {
   "cell_type": "code",
   "execution_count": 28,
   "metadata": {},
   "outputs": [],
   "source": [
    "datastream1 = synth.RandomRBFDrift(seed_model=42, seed_sample=42, n_classes=2, n_features=10, n_centroids=20, n_drift_centroids=10)\n",
    "datastream2 = synth.LEDDrift(seed=42, noise_percentage=0.2, n_drift_features=5)\n",
    "datastream3 = AirlinePassengers() # Only 144 items \n",
    "datastream4 = Elec2()"
   ]
  },
  {
   "cell_type": "code",
   "execution_count": 81,
   "metadata": {},
   "outputs": [],
   "source": [
    "# Create and store the datastreams \n",
    "\n",
    "data1 = datastream1.take(5000)\n",
    "df1 = pd.DataFrame([{**x, \"label\": y} for x, y in data1])\n",
    "\n",
    "data2 = datastream2.take(5000)\n",
    "df2 = pd.DataFrame([{**x, \"label\": y} for x, y in data2])\n",
    "\n",
    "data3 = datastream3.take(k=144)\n",
    "df3 = pd.DataFrame([{**x, \"label\": y} for x, y in data3])\n",
    "\n",
    "data4 = datastream4.take(5000)\n",
    "if datastream4.is_downloaded: # Check if the csv with the datastream is downloaded \n",
    "    df4 = pd.read_csv(datastream4.path) # Load the csv file into a dataframe \n",
    "else:\n",
    "    df1 = pd.DataFrame([{**x, \"label\": y} for x, y in data4])\n",
    "\n",
    "df1.to_csv(\"./Datastreams/datastream1.csv\")\n",
    "df2.to_csv(\"./Datastreams/datastream2.csv\")\n",
    "df3.to_csv(\"./Datastreams/datastream3.csv\")\n",
    "df4.to_csv(\"./Datastreams/datastream4.csv\")"
   ]
  }
 ],
 "metadata": {
  "kernelspec": {
   "display_name": "INFOMLDDE",
   "language": "python",
   "name": "python3"
  },
  "language_info": {
   "codemirror_mode": {
    "name": "ipython",
    "version": 3
   },
   "file_extension": ".py",
   "mimetype": "text/x-python",
   "name": "python",
   "nbconvert_exporter": "python",
   "pygments_lexer": "ipython3",
   "version": "3.11.11"
  }
 },
 "nbformat": 4,
 "nbformat_minor": 2
}
